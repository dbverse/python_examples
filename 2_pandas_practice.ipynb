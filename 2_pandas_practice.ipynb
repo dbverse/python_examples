{
 "cells": [
  {
   "cell_type": "code",
   "execution_count": 1,
   "metadata": {},
   "outputs": [],
   "source": [
    "import pandas as pd"
   ]
  },
  {
   "cell_type": "code",
   "execution_count": 2,
   "metadata": {},
   "outputs": [],
   "source": [
    "# DataFrame `df_customers`\n",
    "customers_data = [\n",
    "    {\"customer_id\": 1, \"name\": \"Alice\", \"city\": \"New York\"},\n",
    "    {\"customer_id\": 2, \"name\": \"Bob\", \"city\": \"Los Angeles\"},\n",
    "    {\"customer_id\": 3, \"name\": \"Charlie\", \"city\": \"Chicago\"}\n",
    "]\n",
    "\n",
    "# DataFrame `df_orders`\n",
    "orders_data = [\n",
    "    {\"order_id\": 101, \"customer_id\": 1, \"amount\": 250},\n",
    "    {\"order_id\": 102, \"customer_id\": 2, \"amount\": 300},\n",
    "    {\"order_id\": 103, \"customer_id\": 4, \"amount\": 150}\n",
    "]\n"
   ]
  }
 ],
 "metadata": {
  "kernelspec": {
   "display_name": "base",
   "language": "python",
   "name": "python3"
  },
  "language_info": {
   "codemirror_mode": {
    "name": "ipython",
    "version": 3
   },
   "file_extension": ".py",
   "mimetype": "text/x-python",
   "name": "python",
   "nbconvert_exporter": "python",
   "pygments_lexer": "ipython3",
   "version": "3.11.5"
  }
 },
 "nbformat": 4,
 "nbformat_minor": 2
}
