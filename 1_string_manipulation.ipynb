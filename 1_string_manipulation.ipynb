{
 "cells": [
  {
   "cell_type": "code",
   "execution_count": 17,
   "metadata": {},
   "outputs": [
    {
     "name": "stdout",
     "output_type": "stream",
     "text": [
      "olleh\n",
      "olleh\n",
      "olleh\n"
     ]
    }
   ],
   "source": [
    "#string reverse\n",
    "str = \"hello\"\n",
    "out = list(str)\n",
    "out.reverse()\n",
    "strout = ''.join(out)\n",
    "print(strout)\n",
    "#other method 1\n",
    "strout2 = ''.join(reversed(str))\n",
    "print(strout2)\n",
    "#other method 2\n",
    "strout3 = str[::-1]\n",
    "print(strout3)"
   ]
  },
  {
   "cell_type": "code",
   "execution_count": 15,
   "metadata": {},
   "outputs": [
    {
     "name": "stdout",
     "output_type": "stream",
     "text": [
      "hello\n",
      "hello\n"
     ]
    }
   ],
   "source": [
    "#remove numbers or numbers\n",
    "str=\"hello123\"\n",
    "for val in str:\n",
    "    if val.isnumeric():\n",
    "        str = str.replace(val,\"\")\n",
    "print(str)\n",
    "#alternate approach\n",
    "strout = ''.join([ch for ch in str if not ch.isdigit()])\n",
    "print(strout)"
   ]
  },
  {
   "cell_type": "code",
   "execution_count": 22,
   "metadata": {},
   "outputs": [
    {
     "name": "stdout",
     "output_type": "stream",
     "text": [
      "anagram\n",
      "anagram\n"
     ]
    }
   ],
   "source": [
    "#anagram check\n",
    "str1 = \"listen\"\n",
    "str2 = \"silent\"\n",
    "l1 = list(str1)\n",
    "l1.sort()\n",
    "l2 = list(str2)\n",
    "l2.sort()\n",
    "if l1 == l2:\n",
    "    print(\"anagram\")\n",
    "#alternate methods:\n",
    "def are_anagrams(str1: str, str2: str) -> bool:\n",
    "    # Anagrams must have the same length\n",
    "    if len(str1) != len(str2):\n",
    "        return False\n",
    "    \n",
    "    # Sort both strings and compare\n",
    "    return sorted(str1) == sorted(str2)\n",
    "\n",
    "# Test the function\n",
    "str1 = \"listen\"\n",
    "str2 = \"silent\"\n",
    "if are_anagrams(str1, str2):\n",
    "    print(\"anagram\")\n",
    "else:\n",
    "    print(\"not anagram\")\n",
    "\n"
   ]
  },
  {
   "cell_type": "code",
   "execution_count": null,
   "metadata": {},
   "outputs": [],
   "source": []
  }
 ],
 "metadata": {
  "kernelspec": {
   "display_name": "base",
   "language": "python",
   "name": "python3"
  },
  "language_info": {
   "codemirror_mode": {
    "name": "ipython",
    "version": 3
   },
   "file_extension": ".py",
   "mimetype": "text/x-python",
   "name": "python",
   "nbconvert_exporter": "python",
   "pygments_lexer": "ipython3",
   "version": "3.11.5"
  }
 },
 "nbformat": 4,
 "nbformat_minor": 2
}
